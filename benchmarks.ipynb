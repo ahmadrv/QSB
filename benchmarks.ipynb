{
 "cells": [
  {
   "attachments": {},
   "cell_type": "markdown",
   "metadata": {},
   "source": [
    "# **Benchmarks**"
   ]
  },
  {
   "attachments": {},
   "cell_type": "markdown",
   "metadata": {},
   "source": [
    "## **Qiskit**"
   ]
  },
  {
   "cell_type": "code",
   "execution_count": 1,
   "metadata": {},
   "outputs": [],
   "source": [
    "import sys\n",
    "\n",
    "sys.path.append('tools')\n",
    "from tools import benchmark\n",
    "\n",
    "experimentـrepetitions = 1"
   ]
  },
  {
   "cell_type": "markdown",
   "metadata": {},
   "source": [
    "### **Aer**"
   ]
  },
  {
   "cell_type": "code",
   "execution_count": 2,
   "metadata": {},
   "outputs": [
    {
     "ename": "KeyboardInterrupt",
     "evalue": "",
     "output_type": "error",
     "traceback": [
      "\u001b[0;31m---------------------------------------------------------------------------\u001b[0m",
      "\u001b[0;31mKeyboardInterrupt\u001b[0m                         Traceback (most recent call last)",
      "\u001b[1;32m/home/ahmad/Documents/Codes/QSB/benchmarks.ipynb Cell 5\u001b[0m line \u001b[0;36m1\n\u001b[1;32m      <a href='vscode-notebook-cell:/home/ahmad/Documents/Codes/QSB/benchmarks.ipynb#W5sZmlsZQ%3D%3D?line=6'>7</a>\u001b[0m num_shots \u001b[39m=\u001b[39m [\u001b[39m1\u001b[39m]\n\u001b[1;32m      <a href='vscode-notebook-cell:/home/ahmad/Documents/Codes/QSB/benchmarks.ipynb#W5sZmlsZQ%3D%3D?line=8'>9</a>\u001b[0m \u001b[39mfor\u001b[39;00m _ \u001b[39min\u001b[39;00m \u001b[39mrange\u001b[39m(experimentـrepetitions):\n\u001b[0;32m---> <a href='vscode-notebook-cell:/home/ahmad/Documents/Codes/QSB/benchmarks.ipynb#W5sZmlsZQ%3D%3D?line=9'>10</a>\u001b[0m     file_name \u001b[39m=\u001b[39m benchmark\u001b[39m.\u001b[39;49mrun(\n\u001b[1;32m     <a href='vscode-notebook-cell:/home/ahmad/Documents/Codes/QSB/benchmarks.ipynb#W5sZmlsZQ%3D%3D?line=10'>11</a>\u001b[0m         num_qubits,\n\u001b[1;32m     <a href='vscode-notebook-cell:/home/ahmad/Documents/Codes/QSB/benchmarks.ipynb#W5sZmlsZQ%3D%3D?line=11'>12</a>\u001b[0m         num_shots,\n\u001b[1;32m     <a href='vscode-notebook-cell:/home/ahmad/Documents/Codes/QSB/benchmarks.ipynb#W5sZmlsZQ%3D%3D?line=12'>13</a>\u001b[0m         algorithms,\n\u001b[1;32m     <a href='vscode-notebook-cell:/home/ahmad/Documents/Codes/QSB/benchmarks.ipynb#W5sZmlsZQ%3D%3D?line=13'>14</a>\u001b[0m         platforms,\n\u001b[1;32m     <a href='vscode-notebook-cell:/home/ahmad/Documents/Codes/QSB/benchmarks.ipynb#W5sZmlsZQ%3D%3D?line=14'>15</a>\u001b[0m         providers,\n\u001b[1;32m     <a href='vscode-notebook-cell:/home/ahmad/Documents/Codes/QSB/benchmarks.ipynb#W5sZmlsZQ%3D%3D?line=15'>16</a>\u001b[0m         backends,\n\u001b[1;32m     <a href='vscode-notebook-cell:/home/ahmad/Documents/Codes/QSB/benchmarks.ipynb#W5sZmlsZQ%3D%3D?line=16'>17</a>\u001b[0m         benchmarks,\n\u001b[1;32m     <a href='vscode-notebook-cell:/home/ahmad/Documents/Codes/QSB/benchmarks.ipynb#W5sZmlsZQ%3D%3D?line=17'>18</a>\u001b[0m     )\n",
      "File \u001b[0;32m~/Documents/Codes/QSB/tools/benchmark.py:88\u001b[0m, in \u001b[0;36mrun\u001b[0;34m(num_qubits, num_shots, algorithm, platform, provider, backend, benchmarks)\u001b[0m\n\u001b[1;32m     85\u001b[0m result\u001b[39m.\u001b[39mmake_csv_with_header(file_path, \u001b[39mf\u001b[39m\u001b[39m\"\u001b[39m\u001b[39mqubit,\u001b[39m\u001b[39m{\u001b[39;00mcmd\u001b[39m.\u001b[39mbenchmark_type\u001b[39m}\u001b[39;00m\u001b[39m\"\u001b[39m)\n\u001b[1;32m     87\u001b[0m \u001b[39mif\u001b[39;00m cmd\u001b[39m.\u001b[39mbenchmark_type \u001b[39m==\u001b[39m \u001b[39m\"\u001b[39m\u001b[39mruntime\u001b[39m\u001b[39m\"\u001b[39m:\n\u001b[0;32m---> 88\u001b[0m     output \u001b[39m=\u001b[39m \u001b[39mf\u001b[39m\u001b[39m\"\u001b[39m\u001b[39m{\u001b[39;00mcmd\u001b[39m.\u001b[39mnum_qubits\u001b[39m}\u001b[39;00m\u001b[39m,\u001b[39m\u001b[39m{\u001b[39;00mruntime(\u001b[39m*\u001b[39;49mcmd\u001b[39m.\u001b[39;49moutput)\u001b[39m}\u001b[39;00m\u001b[39m\"\u001b[39m\n\u001b[1;32m     90\u001b[0m \u001b[39melif\u001b[39;00m cmd\u001b[39m.\u001b[39mbenchmark_type \u001b[39m==\u001b[39m \u001b[39m\"\u001b[39m\u001b[39mmemory_usage\u001b[39m\u001b[39m\"\u001b[39m:\n\u001b[1;32m     91\u001b[0m     output \u001b[39m=\u001b[39m \u001b[39mf\u001b[39m\u001b[39m\"\u001b[39m\u001b[39m{\u001b[39;00mcmd\u001b[39m.\u001b[39mnum_qubits\u001b[39m}\u001b[39;00m\u001b[39m,\u001b[39m\u001b[39m{\u001b[39;00mmemory_usage(\u001b[39m*\u001b[39mcmd\u001b[39m.\u001b[39moutput)\u001b[39m}\u001b[39;00m\u001b[39m\"\u001b[39m\n",
      "File \u001b[0;32m~/Documents/Codes/QSB/tools/benchmark.py:16\u001b[0m, in \u001b[0;36mruntime\u001b[0;34m(*args)\u001b[0m\n\u001b[1;32m     14\u001b[0m start \u001b[39m=\u001b[39m time\u001b[39m.\u001b[39mtime()\n\u001b[1;32m     15\u001b[0m process \u001b[39m=\u001b[39m subprocess\u001b[39m.\u001b[39mPopen(args)\n\u001b[0;32m---> 16\u001b[0m process\u001b[39m.\u001b[39;49mwait()\n\u001b[1;32m     17\u001b[0m \u001b[39mreturn\u001b[39;00m time\u001b[39m.\u001b[39mtime() \u001b[39m-\u001b[39m start\n",
      "File \u001b[0;32m/usr/lib/python3.10/subprocess.py:1209\u001b[0m, in \u001b[0;36mPopen.wait\u001b[0;34m(self, timeout)\u001b[0m\n\u001b[1;32m   1207\u001b[0m     endtime \u001b[39m=\u001b[39m _time() \u001b[39m+\u001b[39m timeout\n\u001b[1;32m   1208\u001b[0m \u001b[39mtry\u001b[39;00m:\n\u001b[0;32m-> 1209\u001b[0m     \u001b[39mreturn\u001b[39;00m \u001b[39mself\u001b[39;49m\u001b[39m.\u001b[39;49m_wait(timeout\u001b[39m=\u001b[39;49mtimeout)\n\u001b[1;32m   1210\u001b[0m \u001b[39mexcept\u001b[39;00m \u001b[39mKeyboardInterrupt\u001b[39;00m:\n\u001b[1;32m   1211\u001b[0m     \u001b[39m# https://bugs.python.org/issue25942\u001b[39;00m\n\u001b[1;32m   1212\u001b[0m     \u001b[39m# The first keyboard interrupt waits briefly for the child to\u001b[39;00m\n\u001b[1;32m   1213\u001b[0m     \u001b[39m# exit under the common assumption that it also received the ^C\u001b[39;00m\n\u001b[1;32m   1214\u001b[0m     \u001b[39m# generated SIGINT and will exit rapidly.\u001b[39;00m\n\u001b[1;32m   1215\u001b[0m     \u001b[39mif\u001b[39;00m timeout \u001b[39mis\u001b[39;00m \u001b[39mnot\u001b[39;00m \u001b[39mNone\u001b[39;00m:\n",
      "File \u001b[0;32m/usr/lib/python3.10/subprocess.py:1959\u001b[0m, in \u001b[0;36mPopen._wait\u001b[0;34m(self, timeout)\u001b[0m\n\u001b[1;32m   1957\u001b[0m \u001b[39mif\u001b[39;00m \u001b[39mself\u001b[39m\u001b[39m.\u001b[39mreturncode \u001b[39mis\u001b[39;00m \u001b[39mnot\u001b[39;00m \u001b[39mNone\u001b[39;00m:\n\u001b[1;32m   1958\u001b[0m     \u001b[39mbreak\u001b[39;00m  \u001b[39m# Another thread waited.\u001b[39;00m\n\u001b[0;32m-> 1959\u001b[0m (pid, sts) \u001b[39m=\u001b[39m \u001b[39mself\u001b[39;49m\u001b[39m.\u001b[39;49m_try_wait(\u001b[39m0\u001b[39;49m)\n\u001b[1;32m   1960\u001b[0m \u001b[39m# Check the pid and loop as waitpid has been known to\u001b[39;00m\n\u001b[1;32m   1961\u001b[0m \u001b[39m# return 0 even without WNOHANG in odd situations.\u001b[39;00m\n\u001b[1;32m   1962\u001b[0m \u001b[39m# http://bugs.python.org/issue14396.\u001b[39;00m\n\u001b[1;32m   1963\u001b[0m \u001b[39mif\u001b[39;00m pid \u001b[39m==\u001b[39m \u001b[39mself\u001b[39m\u001b[39m.\u001b[39mpid:\n",
      "File \u001b[0;32m/usr/lib/python3.10/subprocess.py:1917\u001b[0m, in \u001b[0;36mPopen._try_wait\u001b[0;34m(self, wait_flags)\u001b[0m\n\u001b[1;32m   1915\u001b[0m \u001b[39m\u001b[39m\u001b[39m\"\"\"All callers to this function MUST hold self._waitpid_lock.\"\"\"\u001b[39;00m\n\u001b[1;32m   1916\u001b[0m \u001b[39mtry\u001b[39;00m:\n\u001b[0;32m-> 1917\u001b[0m     (pid, sts) \u001b[39m=\u001b[39m os\u001b[39m.\u001b[39;49mwaitpid(\u001b[39mself\u001b[39;49m\u001b[39m.\u001b[39;49mpid, wait_flags)\n\u001b[1;32m   1918\u001b[0m \u001b[39mexcept\u001b[39;00m \u001b[39mChildProcessError\u001b[39;00m:\n\u001b[1;32m   1919\u001b[0m     \u001b[39m# This happens if SIGCLD is set to be ignored or waiting\u001b[39;00m\n\u001b[1;32m   1920\u001b[0m     \u001b[39m# for child processes has otherwise been disabled for our\u001b[39;00m\n\u001b[1;32m   1921\u001b[0m     \u001b[39m# process.  This child is dead, we can't get the status.\u001b[39;00m\n\u001b[1;32m   1922\u001b[0m     pid \u001b[39m=\u001b[39m \u001b[39mself\u001b[39m\u001b[39m.\u001b[39mpid\n",
      "\u001b[0;31mKeyboardInterrupt\u001b[0m: "
     ]
    }
   ],
   "source": [
    "num_qubits = list(range(2, 35))\n",
    "platforms = [\"Qiskit\"]\n",
    "providers = [\"aer\"]\n",
    "backends = [\"aer_simulator\", \"qasm_simulator\"]\n",
    "algorithms = [\"deutsch_jozsa\", \"bernstein_vazirani\"]\n",
    "benchmarks = [\"runtime\", \"memory_usage\"]\n",
    "num_shots = [1]\n",
    "\n",
    "for _ in range(experimentـrepetitions):\n",
    "    file_name = benchmark.run(\n",
    "        num_qubits,\n",
    "        num_shots,\n",
    "        algorithms,\n",
    "        platforms,\n",
    "        providers,\n",
    "        backends,\n",
    "        benchmarks,\n",
    "    )"
   ]
  },
  {
   "attachments": {},
   "cell_type": "markdown",
   "metadata": {},
   "source": [
    "# **Plotting**"
   ]
  },
  {
   "cell_type": "code",
   "execution_count": null,
   "metadata": {},
   "outputs": [],
   "source": [
    "%config InlineBackend.figure_formats = ['png']\n",
    "\n",
    "import sys\n",
    "\n",
    "sys.path.append(\"tools\")\n",
    "from tools import result\n",
    "\n",
    "\n",
    "file_paths = result.get_all_files(\"results\")\n",
    "\n",
    "result.plot_result(file_paths, \"runtime\")"
   ]
  }
 ],
 "metadata": {
  "kernelspec": {
   "display_name": "qsb",
   "language": "python",
   "name": "python3"
  },
  "language_info": {
   "codemirror_mode": {
    "name": "ipython",
    "version": 3
   },
   "file_extension": ".py",
   "mimetype": "text/x-python",
   "name": "python",
   "nbconvert_exporter": "python",
   "pygments_lexer": "ipython3",
   "version": "3.10.12"
  },
  "orig_nbformat": 4
 },
 "nbformat": 4,
 "nbformat_minor": 2
}
