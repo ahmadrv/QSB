{
 "cells": [
  {
   "attachments": {},
   "cell_type": "markdown",
   "metadata": {},
   "source": [
    "# **Benchmarks**"
   ]
  },
  {
   "cell_type": "code",
   "execution_count": null,
   "metadata": {},
   "outputs": [],
   "source": [
    "import sys\n",
    "\n",
    "sys.path.append('tools')\n",
    "from tools import benchmark\n",
    "\n",
    "experimentـrepetitions = 1\n",
    "num_qubits = list(range(5, 6))"
   ]
  },
  {
   "attachments": {},
   "cell_type": "markdown",
   "metadata": {},
   "source": [
    "## **Qiskit**"
   ]
  },
  {
   "cell_type": "markdown",
   "metadata": {},
   "source": [
    "### **Aer**"
   ]
  },
  {
   "cell_type": "code",
   "execution_count": null,
   "metadata": {},
   "outputs": [],
   "source": [
    "platforms = [\"Qiskit\"]\n",
    "providers = [\"aer\"]\n",
    "backends = [\"aer_simulator\", \"qasm_simulator\"]\n",
    "algorithms = [\n",
    "            \"deutsch_jozsa\",\n",
    "            \"bernstein_vazirani\",\n",
    "            \"quantum_fourier_transform\",\n",
    "            \"simon\"\n",
    "]\n",
    "benchmarks = [\"runtime\", \"memory_usage\"]\n",
    "num_shots = [1]\n",
    "\n",
    "for _ in range(experimentـrepetitions):\n",
    "    file_name = benchmark.run(\n",
    "        num_qubits,\n",
    "        num_shots,\n",
    "        algorithms,\n",
    "        platforms,\n",
    "        providers,\n",
    "        backends,\n",
    "        benchmarks,\n",
    "    )"
   ]
  },
  {
   "cell_type": "markdown",
   "metadata": {},
   "source": [
    "### **DDSIM**"
   ]
  },
  {
   "cell_type": "code",
   "execution_count": null,
   "metadata": {},
   "outputs": [],
   "source": [
    "platforms = [\"Qiskit\"]\n",
    "providers = [\"ddsim\"]\n",
    "backends = [\"qasm_simulator\", \"hybrid_qasm_simulator\"]\n",
    "algorithms = [\n",
    "            \"deutsch_jozsa\",\n",
    "            \"bernstein_vazirani\",\n",
    "            \"quantum_fourier_transform\",\n",
    "            # \"simon\"       # [ ]: https://github.com/cda-tum/mqt-ddsim/issues/326\n",
    "]\n",
    "benchmarks = [\"runtime\", \"memory_usage\"]\n",
    "num_shots = [1]\n",
    "\n",
    "for _ in range(experimentـrepetitions):\n",
    "    file_name = benchmark.run(\n",
    "        num_qubits,\n",
    "        num_shots,\n",
    "        algorithms,\n",
    "        platforms,\n",
    "        providers,\n",
    "        backends,\n",
    "        benchmarks,\n",
    "    )"
   ]
  },
  {
   "cell_type": "markdown",
   "metadata": {},
   "source": [
    "## **Cirq**"
   ]
  },
  {
   "cell_type": "markdown",
   "metadata": {},
   "source": [
    "### **cirq**"
   ]
  },
  {
   "cell_type": "code",
   "execution_count": null,
   "metadata": {},
   "outputs": [],
   "source": [
    "platforms = [\"Cirq\"]\n",
    "providers = [\"cirq\"]\n",
    "backends = [\"pure\"]\n",
    "algorithms = [\n",
    "            \"deutsch_jozsa\",\n",
    "            \"bernstein_vazirani\",\n",
    "            \"quantum_fourier_transform\",\n",
    "            \"simon\"\n",
    "]\n",
    "benchmarks = [\"runtime\", \"memory_usage\"]\n",
    "num_shots = [1]\n",
    "\n",
    "for _ in range(experimentـrepetitions):\n",
    "    file_name = benchmark.run(\n",
    "        num_qubits,\n",
    "        num_shots,\n",
    "        algorithms,\n",
    "        platforms,\n",
    "        providers,\n",
    "        backends,\n",
    "        benchmarks,\n",
    "    )"
   ]
  },
  {
   "cell_type": "markdown",
   "metadata": {},
   "source": [
    "### **qsimcirq**"
   ]
  },
  {
   "cell_type": "code",
   "execution_count": null,
   "metadata": {},
   "outputs": [],
   "source": [
    "platforms = [\"Cirq\"]\n",
    "providers = [\"qsimcirq\"]\n",
    "backends = [\"QSimSimulator\"]\n",
    "algorithms = [\n",
    "            \"deutsch_jozsa\",\n",
    "            \"bernstein_vazirani\",\n",
    "            \"quantum_fourier_transform\",\n",
    "            \"simon\"\n",
    "]\n",
    "benchmarks = [\"runtime\", \"memory_usage\"]\n",
    "num_shots = [1]\n",
    "\n",
    "for _ in range(experimentـrepetitions):\n",
    "    file_name = benchmark.run(\n",
    "        num_qubits,\n",
    "        num_shots,\n",
    "        algorithms,\n",
    "        platforms,\n",
    "        providers,\n",
    "        backends,\n",
    "        benchmarks,\n",
    "    )"
   ]
  },
  {
   "attachments": {},
   "cell_type": "markdown",
   "metadata": {},
   "source": [
    "# **Plotting**"
   ]
  },
  {
   "cell_type": "code",
   "execution_count": null,
   "metadata": {},
   "outputs": [],
   "source": [
    "%config InlineBackend.figure_formats = ['png']\n",
    "\n",
    "import sys\n",
    "\n",
    "sys.path.append(\"tools\")\n",
    "from tools import result\n",
    "\n",
    "\n",
    "runtime_paths, memory_usage_paths = result.get_all_files(\"results\")"
   ]
  },
  {
   "cell_type": "code",
   "execution_count": null,
   "metadata": {},
   "outputs": [],
   "source": [
    "result.plot_result(runtime_paths, \"runtime\", \"Runtime (s)\")"
   ]
  },
  {
   "cell_type": "code",
   "execution_count": null,
   "metadata": {},
   "outputs": [],
   "source": [
    "result.plot_result(memory_usage_paths, \"memory_usage\", \"Memory Usage (MB)\")"
   ]
  }
 ],
 "metadata": {
  "kernelspec": {
   "display_name": "qsb",
   "language": "python",
   "name": "python3"
  },
  "language_info": {
   "codemirror_mode": {
    "name": "ipython",
    "version": 3
   },
   "file_extension": ".py",
   "mimetype": "text/x-python",
   "name": "python",
   "nbconvert_exporter": "python",
   "pygments_lexer": "ipython3",
   "version": "3.10.12"
  },
  "orig_nbformat": 4
 },
 "nbformat": 4,
 "nbformat_minor": 2
}
