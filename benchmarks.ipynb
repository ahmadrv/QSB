{
 "cells": [
  {
   "attachments": {},
   "cell_type": "markdown",
   "metadata": {},
   "source": [
    "# **Benchmarks**"
   ]
  },
  {
   "attachments": {},
   "cell_type": "markdown",
   "metadata": {},
   "source": [
    "## **Qiskit**"
   ]
  },
  {
   "cell_type": "code",
   "execution_count": 1,
   "metadata": {},
   "outputs": [],
   "source": [
    "from tools import benchmark\n",
    "\n",
    "runtime_command = [\"python\",\n",
    "                   \"file\",\n",
    "                   \"--num_qubits\",\n",
    "                   \"5\",\n",
    "                   \"--num_shots\",\n",
    "                   \"1024\",\n",
    "                   \"--deutsch_jozsa_case\",\n",
    "                   \"balanced\"]"
   ]
  },
  {
   "attachments": {},
   "cell_type": "markdown",
   "metadata": {},
   "source": [
    "### **Qiskit Aer**"
   ]
  },
  {
   "attachments": {},
   "cell_type": "markdown",
   "metadata": {},
   "source": [
    "#### **Deutsch-Jozsa**"
   ]
  },
  {
   "attachments": {},
   "cell_type": "markdown",
   "metadata": {},
   "source": [
    "##### **Runtime**"
   ]
  },
  {
   "cell_type": "code",
   "execution_count": 5,
   "metadata": {},
   "outputs": [
    {
     "name": "stdout",
     "output_type": "stream",
     "text": [
      "1.3453142642974854\n"
     ]
    }
   ],
   "source": [
    "runtime_command[1] = 'Qiskit/Aer/benchmark_deutsch_jozsa.py'\n",
    "\n",
    "print(benchmark.runtime(*runtime_command))"
   ]
  },
  {
   "attachments": {},
   "cell_type": "markdown",
   "metadata": {},
   "source": [
    "### **MQTDDSIM**"
   ]
  },
  {
   "attachments": {},
   "cell_type": "markdown",
   "metadata": {},
   "source": [
    "#### **Deutsch-Jozsa**"
   ]
  },
  {
   "attachments": {},
   "cell_type": "markdown",
   "metadata": {},
   "source": [
    "##### **Runtime**"
   ]
  },
  {
   "cell_type": "code",
   "execution_count": 2,
   "metadata": {},
   "outputs": [
    {
     "name": "stdout",
     "output_type": "stream",
     "text": [
      "Available Backends: \n",
      "[<QasmSimulatorBackend('qasm_simulator')>,\n",
      " <StatevectorSimulatorBackend('statevector_simulator')>,\n",
      " <HybridQasmSimulatorBackend('hybrid_qasm_simulator')>,\n",
      " <HybridStatevectorSimulatorBackend('hybrid_statevector_simulator')>,\n",
      " <PathQasmSimulatorBackend('path_sim_qasm_simulator')>,\n",
      " <PathStatevectorSimulatorBackend('path_sim_statevector_simulator')>,\n",
      " <UnitarySimulatorBackend('unitary_simulator')>]\n",
      "0.9085943698883057\n"
     ]
    }
   ],
   "source": [
    "runtime_command[1] = 'Qiskit/MQTDDSIM/benchmark_deutsch_jozsa.py'\n",
    "\n",
    "print(benchmark.runtime(*runtime_command))"
   ]
  },
  {
   "attachments": {},
   "cell_type": "markdown",
   "metadata": {},
   "source": [
    "### **NVIDIA cuStateVec**"
   ]
  },
  {
   "attachments": {},
   "cell_type": "markdown",
   "metadata": {},
   "source": [
    "#### **Deutsch-Jozsa**"
   ]
  },
  {
   "attachments": {},
   "cell_type": "markdown",
   "metadata": {},
   "source": [
    "##### **Runtime**"
   ]
  },
  {
   "cell_type": "code",
   "execution_count": 7,
   "metadata": {},
   "outputs": [
    {
     "name": "stdout",
     "output_type": "stream",
     "text": [
      "0.900244951248169\n"
     ]
    },
    {
     "name": "stderr",
     "output_type": "stream",
     "text": [
      "Traceback (most recent call last):\n",
      "  File \"/home/ahmad/Documents/Codes/QSB/Qiskit/NVIDIAcuStateVec/benchmark_deutsch_jozsa.py\", line 2, in <module>\n",
      "    from cusvaer.backends import StatevectorSimulator\n",
      "ModuleNotFoundError: No module named 'cusvaer'\n"
     ]
    }
   ],
   "source": [
    "runtime_command[1] = 'Qiskit/NVIDIAcuStateVec/benchmark_deutsch_jozsa.py'\n",
    "\n",
    "print(benchmark.runtime(*runtime_command))"
   ]
  },
  {
   "attachments": {},
   "cell_type": "markdown",
   "metadata": {},
   "source": [
    "### **QuaC**"
   ]
  },
  {
   "attachments": {},
   "cell_type": "markdown",
   "metadata": {},
   "source": [
    "#### **Deutsch-Jozsa**"
   ]
  },
  {
   "attachments": {},
   "cell_type": "markdown",
   "metadata": {},
   "source": [
    "##### **Runtime**"
   ]
  },
  {
   "cell_type": "code",
   "execution_count": 8,
   "metadata": {},
   "outputs": [
    {
     "name": "stdout",
     "output_type": "stream",
     "text": [
      "1.2711615562438965\n"
     ]
    },
    {
     "name": "stderr",
     "output_type": "stream",
     "text": [
      "Traceback (most recent call last):\n",
      "  File \"/home/ahmad/Documents/Codes/QSB/Qiskit/QuaC/benchmark_deutsch_jozsa.py\", line 2, in <module>\n",
      "    from quac_qiskit import Quac\n",
      "ModuleNotFoundError: No module named 'quac_qiskit'\n"
     ]
    }
   ],
   "source": [
    "runtime_command[1] = 'Qiskit/QuaC/benchmark_deutsch_jozsa.py'\n",
    "\n",
    "print(benchmark.runtime(*runtime_command))"
   ]
  },
  {
   "attachments": {},
   "cell_type": "markdown",
   "metadata": {},
   "source": [
    "## **QuEST**"
   ]
  },
  {
   "cell_type": "code",
   "execution_count": null,
   "metadata": {},
   "outputs": [],
   "source": [
    "# [ ]: Should the compilation time be considered or not?"
   ]
  },
  {
   "attachments": {},
   "cell_type": "markdown",
   "metadata": {},
   "source": [
    "# **Draft**"
   ]
  },
  {
   "cell_type": "code",
   "execution_count": 1,
   "metadata": {},
   "outputs": [
    {
     "name": "stdout",
     "output_type": "stream",
     "text": [
      "106.78515625\n"
     ]
    }
   ],
   "source": [
    "from tools import benchmark\n",
    "\n",
    "print(benchmark.memory_usage(\"python\",\n",
    "                             \"/home/ahmad/Documents/Codes/QSB/Qiskit/Aer/benchmark_deutsch_jozsa.py\",\n",
    "                             \"--num_qubits\",\n",
    "                             \"5\",\n",
    "                             \"--num_shots\",\n",
    "                             \"1024\",\n",
    "                             \"--deutsch_jozsa_case\",\n",
    "                             \"balanced\"))"
   ]
  }
 ],
 "metadata": {
  "kernelspec": {
   "display_name": "qsb",
   "language": "python",
   "name": "python3"
  },
  "language_info": {
   "codemirror_mode": {
    "name": "ipython",
    "version": 3
   },
   "file_extension": ".py",
   "mimetype": "text/x-python",
   "name": "python",
   "nbconvert_exporter": "python",
   "pygments_lexer": "ipython3",
   "version": "3.10.6"
  },
  "orig_nbformat": 4
 },
 "nbformat": 4,
 "nbformat_minor": 2
}
