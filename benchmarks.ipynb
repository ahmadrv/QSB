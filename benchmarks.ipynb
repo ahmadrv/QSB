{
 "cells": [
  {
   "attachments": {},
   "cell_type": "markdown",
   "metadata": {},
   "source": [
    "# **Benchmarks**"
   ]
  },
  {
   "attachments": {},
   "cell_type": "markdown",
   "metadata": {},
   "source": [
    "## **Qiskit**"
   ]
  },
  {
   "cell_type": "code",
   "execution_count": 1,
   "metadata": {},
   "outputs": [],
   "source": [
    "import sys\n",
    "\n",
    "sys.path.append('tools')"
   ]
  },
  {
   "cell_type": "code",
   "execution_count": 3,
   "metadata": {},
   "outputs": [
    {
     "name": "stdout",
     "output_type": "stream",
     "text": [
      "['python', 'Qiskit/deutsch_jozsa.py', '--num_qubits', '5', '--num_shots', '1024', '--algorithm', 'deutsch_jozsa', '--platform', 'Qiskit', '--provider', 'aer', '--backend', 'aer_simulator', '--benchmark', 'runtime', '--deutsch_jozsa_case', 'balanced']\n",
      "1.6703836917877197\n"
     ]
    }
   ],
   "source": [
    "from tools import command, benchmark, shell\n",
    "\n",
    "command = shell.command\n",
    "\n",
    "if command.benchmark == 'runtime':\n",
    "    \n",
    "    print(benchmark.runtime(*command.output))"
   ]
  }
 ],
 "metadata": {
  "kernelspec": {
   "display_name": "qsb",
   "language": "python",
   "name": "python3"
  },
  "language_info": {
   "codemirror_mode": {
    "name": "ipython",
    "version": 3
   },
   "file_extension": ".py",
   "mimetype": "text/x-python",
   "name": "python",
   "nbconvert_exporter": "python",
   "pygments_lexer": "ipython3",
   "version": "3.10.6"
  },
  "orig_nbformat": 4
 },
 "nbformat": 4,
 "nbformat_minor": 2
}
