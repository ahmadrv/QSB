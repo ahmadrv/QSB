{
 "cells": [
  {
   "attachments": {},
   "cell_type": "markdown",
   "metadata": {},
   "source": [
    "# **Benchmarks**"
   ]
  },
  {
   "attachments": {},
   "cell_type": "markdown",
   "metadata": {},
   "source": [
    "## **Qiskit**"
   ]
  },
  {
   "cell_type": "code",
   "execution_count": 1,
   "metadata": {},
   "outputs": [
    {
     "name": "stdout",
     "output_type": "stream",
     "text": [
      "1.298259973526001\n"
     ]
    }
   ],
   "source": [
    "from tools import benchmark\n",
    "\n",
    "command = [\n",
    "    \"python\",\n",
    "    \"file\",\n",
    "    \"--num_qubits\",\n",
    "    \"5\",\n",
    "    \"--num_shots\",\n",
    "    \"1024\",\n",
    "    \"--algorithm\",\n",
    "    \"deutsch_jozsa\",\n",
    "    \"--provider\",\n",
    "    \"qiskit_aer\",\n",
    "    \"--backend\",\n",
    "    \"qasm_simulator\",\n",
    "    \"--deutsch_jozsa_case\",\n",
    "    \"balanced\",\n",
    "]\n",
    "\n",
    "command[1] = \"Qiskit/deutsch_jozsa.py\"\n",
    "\n",
    "print(benchmark.runtime(*command))"
   ]
  }
 ],
 "metadata": {
  "kernelspec": {
   "display_name": "qsb",
   "language": "python",
   "name": "python3"
  },
  "language_info": {
   "codemirror_mode": {
    "name": "ipython",
    "version": 3
   },
   "file_extension": ".py",
   "mimetype": "text/x-python",
   "name": "python",
   "nbconvert_exporter": "python",
   "pygments_lexer": "ipython3",
   "version": "3.10.6"
  },
  "orig_nbformat": 4
 },
 "nbformat": 4,
 "nbformat_minor": 2
}
