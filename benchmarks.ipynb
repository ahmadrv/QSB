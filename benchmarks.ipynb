{
 "cells": [
  {
   "attachments": {},
   "cell_type": "markdown",
   "metadata": {},
   "source": [
    "# **Benchmarks**"
   ]
  },
  {
   "cell_type": "code",
   "execution_count": 1,
   "metadata": {},
   "outputs": [],
   "source": [
    "import sys\n",
    "\n",
    "sys.path.append('tools')\n",
    "from tools import benchmark, supported\n",
    "\n",
    "experimentـrepetitions = 1\n",
    "num_qubits = list(range(5, 6))"
   ]
  },
  {
   "attachments": {},
   "cell_type": "markdown",
   "metadata": {},
   "source": [
    "## **Qiskit**"
   ]
  },
  {
   "cell_type": "markdown",
   "metadata": {},
   "source": [
    "### **Aer**"
   ]
  },
  {
   "cell_type": "code",
   "execution_count": 2,
   "metadata": {},
   "outputs": [],
   "source": [
    "platforms = [\"Qiskit\"]\n",
    "providers = [\"aer\"]\n",
    "backends = [\"aer_simulator\", \"qasm_simulator\"]\n",
    "algorithms = supported.algorithms\n",
    "benchmarks = [\"runtime\", \"memory_usage\"]\n",
    "num_shots = [1]\n",
    "\n",
    "for _ in range(experimentـrepetitions):\n",
    "    file_name = benchmark.run(\n",
    "        num_qubits,\n",
    "        num_shots,\n",
    "        algorithms,\n",
    "        platforms,\n",
    "        providers,\n",
    "        backends,\n",
    "        benchmarks,\n",
    "    )"
   ]
  },
  {
   "cell_type": "markdown",
   "metadata": {},
   "source": [
    "### **DDSIM**"
   ]
  },
  {
   "cell_type": "code",
   "execution_count": 3,
   "metadata": {},
   "outputs": [
    {
     "name": "stderr",
     "output_type": "stream",
     "text": [
      "/home/ahmad/Documents/Final Project/QSB/Qiskit/simon.py:70: UserWarning: Option memory is not used by this backend\n",
      "  result = backend.run(transpiled_circuit, shots=num_shots, memory=True).result()\n",
      "Traceback (most recent call last):\n",
      "  File \"/home/ahmad/Documents/Final Project/QSB/qsb/lib/python3.10/site-packages/qiskit/result/result.py\", line 226, in get_memory\n",
      "    memory = self.data(experiment)[\"memory\"]\n",
      "KeyError: 'memory'\n",
      "\n",
      "The above exception was the direct cause of the following exception:\n",
      "\n",
      "Traceback (most recent call last):\n",
      "  File \"/home/ahmad/Documents/Final Project/QSB/Qiskit/simon.py\", line 95, in <module>\n",
      "    main()\n",
      "  File \"/home/ahmad/Documents/Final Project/QSB/Qiskit/simon.py\", line 17, in main\n",
      "    simon_algorithm(oracle_gate, args.num_shots)\n",
      "  File \"/home/ahmad/Documents/Final Project/QSB/Qiskit/simon.py\", line 85, in simon_algorithm\n",
      "    measurements = simon_measurements(oracle, num_shots)\n",
      "  File \"/home/ahmad/Documents/Final Project/QSB/Qiskit/simon.py\", line 72, in simon_measurements\n",
      "    return result.get_memory()\n",
      "  File \"/home/ahmad/Documents/Final Project/QSB/qsb/lib/python3.10/site-packages/qiskit/result/result.py\", line 238, in get_memory\n",
      "    raise QiskitError(\n",
      "qiskit.exceptions.QiskitError: 'No memory for experiment \"None\". Please verify that you either ran a measurement level 2 job with the memory flag set, eg., \"memory=True\", or a measurement level 0/1 job.'\n",
      "/home/ahmad/Documents/Final Project/QSB/Qiskit/simon.py:70: UserWarning: Option memory is not used by this backend\n",
      "  result = backend.run(transpiled_circuit, shots=num_shots, memory=True).result()\n",
      "Traceback (most recent call last):\n",
      "  File \"/home/ahmad/Documents/Final Project/QSB/qsb/lib/python3.10/site-packages/qiskit/result/result.py\", line 226, in get_memory\n",
      "    memory = self.data(experiment)[\"memory\"]\n",
      "KeyError: 'memory'\n",
      "\n",
      "The above exception was the direct cause of the following exception:\n",
      "\n",
      "Traceback (most recent call last):\n",
      "  File \"/home/ahmad/Documents/Final Project/QSB/Qiskit/simon.py\", line 95, in <module>\n",
      "    main()\n",
      "  File \"/home/ahmad/Documents/Final Project/QSB/Qiskit/simon.py\", line 17, in main\n",
      "    simon_algorithm(oracle_gate, args.num_shots)\n",
      "  File \"/home/ahmad/Documents/Final Project/QSB/Qiskit/simon.py\", line 85, in simon_algorithm\n",
      "    measurements = simon_measurements(oracle, num_shots)\n",
      "  File \"/home/ahmad/Documents/Final Project/QSB/Qiskit/simon.py\", line 72, in simon_measurements\n",
      "    return result.get_memory()\n",
      "  File \"/home/ahmad/Documents/Final Project/QSB/qsb/lib/python3.10/site-packages/qiskit/result/result.py\", line 238, in get_memory\n",
      "    raise QiskitError(\n",
      "qiskit.exceptions.QiskitError: 'No memory for experiment \"None\". Please verify that you either ran a measurement level 2 job with the memory flag set, eg., \"memory=True\", or a measurement level 0/1 job.'\n"
     ]
    }
   ],
   "source": [
    "platforms = [\"Qiskit\"]\n",
    "providers = [\"ddsim\"]\n",
    "backends = [\"qasm_simulator\"]\n",
    "algorithms = supported.algorithms\n",
    "benchmarks = [\"runtime\", \"memory_usage\"]\n",
    "num_shots = [1]\n",
    "\n",
    "for _ in range(experimentـrepetitions):\n",
    "    file_name = benchmark.run(\n",
    "        num_qubits,\n",
    "        num_shots,\n",
    "        algorithms,\n",
    "        platforms,\n",
    "        providers,\n",
    "        backends,\n",
    "        benchmarks,\n",
    "    )"
   ]
  },
  {
   "cell_type": "markdown",
   "metadata": {},
   "source": [
    "## **Cirq**"
   ]
  },
  {
   "cell_type": "code",
   "execution_count": null,
   "metadata": {},
   "outputs": [],
   "source": [
    "num_qubits = list(range(2, 3))\n",
    "platforms = [\"Cirq\"]\n",
    "algorithms = [\"simon\"]\n",
    "providers = [\"default\"]\n",
    "backends = [\"default\"]\n",
    "benchmarks = [\"runtime\", \"memory_usage\"]\n",
    "num_shots = [100]\n",
    "\n",
    "for _ in range(experimentـrepetitions):\n",
    "    file_name = benchmark.run(\n",
    "        num_qubits,\n",
    "        num_shots,\n",
    "        algorithms,\n",
    "        platforms,\n",
    "        backends,\n",
    "        providers,\n",
    "        benchmarks\n",
    "    )"
   ]
  },
  {
   "attachments": {},
   "cell_type": "markdown",
   "metadata": {},
   "source": [
    "# **Plotting**"
   ]
  },
  {
   "cell_type": "code",
   "execution_count": null,
   "metadata": {},
   "outputs": [],
   "source": [
    "%config InlineBackend.figure_formats = ['png']\n",
    "\n",
    "import sys\n",
    "\n",
    "sys.path.append(\"tools\")\n",
    "from tools import result\n",
    "\n",
    "\n",
    "runtime_paths, memory_usage_paths = result.get_all_files(\"results\")"
   ]
  },
  {
   "cell_type": "code",
   "execution_count": null,
   "metadata": {},
   "outputs": [],
   "source": [
    "result.plot_result(runtime_paths, \"runtime\", \"Runtime (s)\")"
   ]
  },
  {
   "cell_type": "code",
   "execution_count": null,
   "metadata": {},
   "outputs": [],
   "source": [
    "result.plot_result(memory_usage_paths, \"memory_usage\", \"Memory Usage (MB)\")"
   ]
  }
 ],
 "metadata": {
  "kernelspec": {
   "display_name": "qsb",
   "language": "python",
   "name": "python3"
  },
  "language_info": {
   "codemirror_mode": {
    "name": "ipython",
    "version": 3
   },
   "file_extension": ".py",
   "mimetype": "text/x-python",
   "name": "python",
   "nbconvert_exporter": "python",
   "pygments_lexer": "ipython3",
   "version": "3.10.12"
  },
  "orig_nbformat": 4
 },
 "nbformat": 4,
 "nbformat_minor": 2
}
