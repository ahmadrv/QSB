{
 "cells": [
  {
   "attachments": {},
   "cell_type": "markdown",
   "metadata": {},
   "source": [
    "# **Benchmarks**"
   ]
  },
  {
   "attachments": {},
   "cell_type": "markdown",
   "metadata": {},
   "source": [
    "## **MQTDDSIM**"
   ]
  },
  {
   "attachments": {},
   "cell_type": "markdown",
   "metadata": {},
   "source": [
    "### **Deutsch-Jozsa**"
   ]
  },
  {
   "attachments": {},
   "cell_type": "markdown",
   "metadata": {},
   "source": [
    "#### **Runtime**"
   ]
  },
  {
   "cell_type": "code",
   "execution_count": 4,
   "metadata": {},
   "outputs": [
    {
     "name": "stdout",
     "output_type": "stream",
     "text": [
      "0.8622076511383057\n"
     ]
    }
   ],
   "source": [
    "from tools import benchmark\n",
    "\n",
    "MQTDDSIM_run_command = \"python MQTDDSIM/deutsch_jozsa.py\\\n",
    "                        --num_qubits 40\\\n",
    "                        --num_shots 1024\\\n",
    "                        --deutsch_jozsa_case balanced\"\n",
    "\n",
    "print(benchmark.runtime(MQTDDSIM_run_command))"
   ]
  },
  {
   "attachments": {},
   "cell_type": "markdown",
   "metadata": {},
   "source": [
    "# **Drafts**"
   ]
  },
  {
   "cell_type": "code",
   "execution_count": null,
   "metadata": {},
   "outputs": [],
   "source": [
    "import sys, os\n",
    "sys.path.append(os.getcwd())\n",
    "\n",
    "from benchmark import benchmark\n",
    "from benchmark import interface"
   ]
  },
  {
   "cell_type": "code",
   "execution_count": null,
   "metadata": {},
   "outputs": [],
   "source": [
    "class Benchmark:\n",
    "    def __init__(self, simulator_circuit, num_qubits):\n",
    "        self.simulator_circuit = simulator_circuit\n",
    "        self.num_qubits = num_qubits\n",
    "        self.metrics = dict()\n",
    "\n",
    "    def runtime(self):\n",
    "        \"\"\"\n",
    "        This metric measures the time it takes for the simulator to execute\n",
    "        the quantum circuit. A faster runtime generally implies\n",
    "        a more efficient simulator.\n",
    "        \"\"\"\n",
    "        # [ ]: Implement runtime metric\n",
    "        pass\n",
    "\n",
    "    def memory_usage(self, *args, **kwargs):\n",
    "        \"\"\"\n",
    "        This metric measures the amount of memory used by the simulator during\n",
    "        execution. As the size and complexity of the circuit increases,\n",
    "        so does the memory usage.\n",
    "        \"\"\"\n",
    "        # [ ]: Implement memory usage metric\n",
    "        pass\n",
    "\n",
    "    def gate_fidelity(self, *args, **kwargs):\n",
    "        \"\"\"\n",
    "\n",
    "        This metric measures the accuracy of the simulator in reproducing the\n",
    "        ideal gates in the quantum circuit. It can be calculated by comparing\n",
    "        the output of the simulator to the expected output for a given circuit.\n",
    "        \"\"\"\n",
    "        # [ ]: Implement gate fidelity metric\n",
    "        pass\n",
    "\n",
    "    def circuit_depth(self, *args, **kwargs):\n",
    "        \"\"\"\n",
    "\n",
    "        This metric measures the number of layers of gates in the quantum\n",
    "        circuit. A shorter circuit depth generally implies a faster execution\n",
    "        time and a lower error rate.\n",
    "        \"\"\"\n",
    "        # [ ]: Implement circuit depth metric\n",
    "        pass\n",
    "\n",
    "    def accuracy(self, *args, **kwargs):\n",
    "        \"\"\"\n",
    "        This metric measures the accuracy of the simulator in reproducing\n",
    "        the correct statistical distribution of outcomes for a given circuit.\n",
    "        This is especially important for applications where the statistical\n",
    "        distribution of outcomes is crucial, such as quantum machine learning.\n",
    "        \"\"\"\n",
    "        # [ ]: Implement accuracy metric\n",
    "        pass\n"
   ]
  }
 ],
 "metadata": {
  "kernelspec": {
   "display_name": "qsb",
   "language": "python",
   "name": "python3"
  },
  "language_info": {
   "codemirror_mode": {
    "name": "ipython",
    "version": 3
   },
   "file_extension": ".py",
   "mimetype": "text/x-python",
   "name": "python",
   "nbconvert_exporter": "python",
   "pygments_lexer": "ipython3",
   "version": "3.10.6"
  },
  "orig_nbformat": 4
 },
 "nbformat": 4,
 "nbformat_minor": 2
}
