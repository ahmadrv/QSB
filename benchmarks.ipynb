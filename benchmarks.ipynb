{
 "cells": [
  {
   "attachments": {},
   "cell_type": "markdown",
   "metadata": {},
   "source": [
    "# **Benchmarks**"
   ]
  },
  {
   "attachments": {},
   "cell_type": "markdown",
   "metadata": {},
   "source": [
    "## **Qiskit**"
   ]
  },
  {
   "attachments": {},
   "cell_type": "markdown",
   "metadata": {},
   "source": [
    "### **Qiskit Aer**"
   ]
  },
  {
   "cell_type": "markdown",
   "metadata": {},
   "source": [
    "#### **Deutsch-Jozsa**"
   ]
  },
  {
   "cell_type": "markdown",
   "metadata": {},
   "source": [
    "##### **Runtime**"
   ]
  },
  {
   "cell_type": "code",
   "execution_count": 4,
   "metadata": {},
   "outputs": [
    {
     "name": "stdout",
     "output_type": "stream",
     "text": [
      "1.4957289695739746\n"
     ]
    }
   ],
   "source": [
    "from tools import benchmark\n",
    "\n",
    "Aer_run_command = \"python Qiskit/Aer/benchmark_deutsch_jozsa.py\\\n",
    "                        --num_qubits 5\\\n",
    "                        --num_shots 1024\\\n",
    "                        --deutsch_jozsa_case balanced\"\n",
    "\n",
    "print(benchmark.runtime(Aer_run_command))"
   ]
  },
  {
   "attachments": {},
   "cell_type": "markdown",
   "metadata": {},
   "source": [
    "### **MQTDDSIM**"
   ]
  },
  {
   "attachments": {},
   "cell_type": "markdown",
   "metadata": {},
   "source": [
    "#### **Deutsch-Jozsa**"
   ]
  },
  {
   "attachments": {},
   "cell_type": "markdown",
   "metadata": {},
   "source": [
    "##### **Runtime**"
   ]
  },
  {
   "cell_type": "code",
   "execution_count": 7,
   "metadata": {},
   "outputs": [
    {
     "name": "stdout",
     "output_type": "stream",
     "text": [
      "1.0040867328643799\n"
     ]
    }
   ],
   "source": [
    "from tools import benchmark\n",
    "\n",
    "MQTDDSIM_run_command = \"python Qiskit/MQTDDSIM/benchmark_deutsch_jozsa.py\\\n",
    "                        --num_qubits 5\\\n",
    "                        --num_shots 1024\\\n",
    "                        --deutsch_jozsa_case balanced\"\n",
    "\n",
    "print(benchmark.runtime(MQTDDSIM_run_command))"
   ]
  },
  {
   "attachments": {},
   "cell_type": "markdown",
   "metadata": {},
   "source": [
    "### **NVIDIA cuStateVec**"
   ]
  },
  {
   "cell_type": "markdown",
   "metadata": {},
   "source": [
    "#### **Deutsch-Jozsa**"
   ]
  },
  {
   "cell_type": "markdown",
   "metadata": {},
   "source": [
    "##### **Runtime**"
   ]
  },
  {
   "cell_type": "code",
   "execution_count": 2,
   "metadata": {},
   "outputs": [
    {
     "name": "stderr",
     "output_type": "stream",
     "text": [
      "Traceback (most recent call last):\n",
      "  File \"/home/ahmad/Documents/Codes/QSB/Qiskit/NVIDIAcuStateVec/benchmark_deutsch_jozsa.py\", line 2, in <module>\n",
      "    from cusvaer.backends import StatevectorSimulator\n",
      "ModuleNotFoundError: No module named 'cusvaer'\n"
     ]
    },
    {
     "ename": "CalledProcessError",
     "evalue": "Command 'python Qiskit/NVIDIAcuStateVec/benchmark_deutsch_jozsa.py                        --num_qubits 5                        --num_shots 1024                        --deutsch_jozsa_case balanced' returned non-zero exit status 1.",
     "output_type": "error",
     "traceback": [
      "\u001b[0;31m---------------------------------------------------------------------------\u001b[0m",
      "\u001b[0;31mCalledProcessError\u001b[0m                        Traceback (most recent call last)",
      "Cell \u001b[0;32mIn[2], line 8\u001b[0m\n\u001b[1;32m      1\u001b[0m \u001b[39mfrom\u001b[39;00m \u001b[39mtools\u001b[39;00m \u001b[39mimport\u001b[39;00m benchmark\n\u001b[1;32m      3\u001b[0m NVIDIAcuStateVec_run_command \u001b[39m=\u001b[39m \u001b[39m\"\u001b[39m\u001b[39mpython Qiskit/NVIDIAcuStateVec/benchmark_deutsch_jozsa.py\u001b[39m\u001b[39m\\\u001b[39;00m\n\u001b[1;32m      4\u001b[0m \u001b[39m                        --num_qubits 5\u001b[39m\u001b[39m\\\u001b[39;00m\n\u001b[1;32m      5\u001b[0m \u001b[39m                        --num_shots 1024\u001b[39m\u001b[39m\\\u001b[39;00m\n\u001b[1;32m      6\u001b[0m \u001b[39m                        --deutsch_jozsa_case balanced\u001b[39m\u001b[39m\"\u001b[39m\n\u001b[0;32m----> 8\u001b[0m \u001b[39mprint\u001b[39m(benchmark\u001b[39m.\u001b[39;49mruntime(NVIDIAcuStateVec_run_command))\n",
      "File \u001b[0;32m~/Documents/Codes/QSB/tools/benchmark.py:8\u001b[0m, in \u001b[0;36mruntime\u001b[0;34m(cmd)\u001b[0m\n\u001b[1;32m      4\u001b[0m \u001b[39m\u001b[39m\u001b[39m\"\"\"\u001b[39;00m\n\u001b[1;32m      5\u001b[0m \u001b[39mRun a command and return its runtime in seconds.\u001b[39;00m\n\u001b[1;32m      6\u001b[0m \u001b[39m\"\"\"\u001b[39;00m\n\u001b[1;32m      7\u001b[0m start \u001b[39m=\u001b[39m time\u001b[39m.\u001b[39mtime()\n\u001b[0;32m----> 8\u001b[0m subprocess\u001b[39m.\u001b[39;49mcheck_call(cmd, shell\u001b[39m=\u001b[39;49m\u001b[39mTrue\u001b[39;49;00m)\n\u001b[1;32m      9\u001b[0m \u001b[39mreturn\u001b[39;00m time\u001b[39m.\u001b[39mtime() \u001b[39m-\u001b[39m start\n",
      "File \u001b[0;32m~/miniconda3/envs/condaqsb/lib/python3.11/subprocess.py:413\u001b[0m, in \u001b[0;36mcheck_call\u001b[0;34m(*popenargs, **kwargs)\u001b[0m\n\u001b[1;32m    411\u001b[0m     \u001b[39mif\u001b[39;00m cmd \u001b[39mis\u001b[39;00m \u001b[39mNone\u001b[39;00m:\n\u001b[1;32m    412\u001b[0m         cmd \u001b[39m=\u001b[39m popenargs[\u001b[39m0\u001b[39m]\n\u001b[0;32m--> 413\u001b[0m     \u001b[39mraise\u001b[39;00m CalledProcessError(retcode, cmd)\n\u001b[1;32m    414\u001b[0m \u001b[39mreturn\u001b[39;00m \u001b[39m0\u001b[39m\n",
      "\u001b[0;31mCalledProcessError\u001b[0m: Command 'python Qiskit/NVIDIAcuStateVec/benchmark_deutsch_jozsa.py                        --num_qubits 5                        --num_shots 1024                        --deutsch_jozsa_case balanced' returned non-zero exit status 1."
     ]
    }
   ],
   "source": [
    "from tools import benchmark\n",
    "\n",
    "NVIDIAcuStateVec_run_command = \"python Qiskit/NVIDIAcuStateVec/benchmark_deutsch_jozsa.py\\\n",
    "                        --num_qubits 5\\\n",
    "                        --num_shots 1024\\\n",
    "                        --deutsch_jozsa_case balanced\"\n",
    "\n",
    "print(benchmark.runtime(NVIDIAcuStateVec_run_command))"
   ]
  }
 ],
 "metadata": {
  "kernelspec": {
   "display_name": "qsb",
   "language": "python",
   "name": "python3"
  },
  "language_info": {
   "codemirror_mode": {
    "name": "ipython",
    "version": 3
   },
   "file_extension": ".py",
   "mimetype": "text/x-python",
   "name": "python",
   "nbconvert_exporter": "python",
   "pygments_lexer": "ipython3",
   "version": "3.11.4"
  },
  "orig_nbformat": 4
 },
 "nbformat": 4,
 "nbformat_minor": 2
}
