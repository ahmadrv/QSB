{
 "cells": [
  {
   "cell_type": "code",
   "execution_count": 21,
   "metadata": {},
   "outputs": [],
   "source": [
    "from mqt import ddsim\n",
    "from qiskit import execute\n",
    "import time\n",
    "\n",
    "\n",
    "from algorithm.deutch_jozsa import dj_oracle, dj_algorithm\n",
    "\n",
    "n = 63\n",
    "\n",
    "oracle_gate = dj_oracle('balanced', n)\n",
    "dj_circuit = dj_algorithm(oracle_gate, n)\n",
    "\n",
    "backend = ddsim.DDSIMProvider().get_backend('qasm_simulator')\n",
    "\n",
    "start_time = time.time()\n",
    "start_process_time = time.process_time()\n",
    "\n",
    "job = execute(dj_circuit, backend, shots=10000)\n",
    "\n",
    "end_time = time.time()\n",
    "end_process_time = time.process_time()\n",
    "\n",
    "print('Execution time: {} seconds'.format(end_time - start_time))\n",
    "print('Process time: {} seconds'.format(end_process_time - start_process_time))\n",
    "\n",
    "counts = job.result().get_counts(dj_circuit)\n",
    "\n",
    "# [ ]: Check where should we put the benchmarking code\n"
   ]
  },
  {
   "attachments": {},
   "cell_type": "markdown",
   "metadata": {},
   "source": [
    "# **Drafts**"
   ]
  },
  {
   "cell_type": "code",
   "execution_count": null,
   "metadata": {},
   "outputs": [],
   "source": [
    "# import sys, os\n",
    "# sys.path.append(os.getcwd())\n",
    "\n",
    "# from benchmark import benchmark\n",
    "# from benchmark import interface"
   ]
  }
 ],
 "metadata": {
  "kernelspec": {
   "display_name": "qsb",
   "language": "python",
   "name": "python3"
  },
  "language_info": {
   "codemirror_mode": {
    "name": "ipython",
    "version": 3
   },
   "file_extension": ".py",
   "mimetype": "text/x-python",
   "name": "python",
   "nbconvert_exporter": "python",
   "pygments_lexer": "ipython3",
   "version": "3.10.6"
  },
  "orig_nbformat": 4
 },
 "nbformat": 4,
 "nbformat_minor": 2
}
